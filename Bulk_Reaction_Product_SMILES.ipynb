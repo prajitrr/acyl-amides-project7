{
  "nbformat": 4,
  "nbformat_minor": 0,
  "metadata": {
    "colab": {
      "provenance": []
    },
    "kernelspec": {
      "name": "python3",
      "display_name": "Python 3"
    },
    "language_info": {
      "name": "python"
    }
  },
  "cells": [
    {
      "cell_type": "markdown",
      "source": [
        "# Bulk Reaction Product SMILES Generator\n",
        "This notebook generates standard SMILES strings for the reaction between two reactants specified by a SMARTS reaction. All possible combinations of each reactant from the two columns are considered when ouputting the products (the Cartesian product of the two columns is taken). The program's input is a two column CSV file of exact reactant names with the format detailed in the `Data import` section. Contact Prajit Rajkumar (prajkumar@ucsd.edu) for any questions or if any issues occur."
      ],
      "metadata": {
        "id": "K5J67YDUetmX"
      }
    },
    {
      "cell_type": "code",
      "execution_count": null,
      "metadata": {
        "cellView": "form",
        "id": "r7anGDuefEpc"
      },
      "outputs": [],
      "source": [
        "%%capture\n",
        "# @title Package installation & imports\n",
        "# @markdown Install and import RDKit and the SMILES retriever module.\n",
        "# @markdown This may take a couple seconds.\n",
        "!pip install rdkit\n",
        "!curl -o structureretriever.py https://raw.githubusercontent.com/prajitrr/acyl-amides-project7/main/modules/structureretriever.py\n",
        "\n",
        "from rdkit import Chem\n",
        "from rdkit.Chem import rdChemReactions\n",
        "from rdkit.Chem import Draw\n",
        "from rdkit.Chem import AllChem\n",
        "\n",
        "from structureretriever import retriever\n",
        "\n",
        "import numpy as np\n",
        "import pandas as pd\n",
        "\n",
        "import ast\n",
        "from IPython.display import display\n",
        "from itertools import product"
      ]
    },
    {
      "cell_type": "code",
      "source": [
        "%%capture\n",
        "# @title Data import\n",
        "# @markdown Upload a CSV file with the exact reactant names, in the format show [here](https://docs.google.com/spreadsheets/d/1AmyMTBuwYbVkzffIpXCZKIWxRVZG4h6jf0L03YnF238/edit?usp=sharing).\n",
        "# @markdown Within a column, order reactants in the order that they are desired to be outputted.\n",
        "# @markdown Specify non-abbreviated reactant names that preferably conform to IUPAC standards. Use this [link](https://cactus.nci.nih.gov/chemical/structure) to verify any reactant names whose validity seems to be uncertain.\n",
        "# @markdown The results will be outputted in an order that first goes down the\n",
        "# @markdown first column, then followed by the second.\n",
        "# @markdown > For example, an input\n",
        "# @markdown with REACTANT_1: {X, Y} and REACTANT_2: {A, B} will produce\n",
        "# @markdown PRODUCT: {XA, YA, XB, YB}\n",
        "# @markdown\n",
        "# @markdown For the reaction between acid chlorides and amines, either the prefix of the acid chloride (without the phrase \"chloride\") or the full name may be used.\n",
        "# @markdown Uploading can be done by downloading the sheet with the reactants from Google Sheets or Excel as a CSV, going to the Files tab of Google Colab, and right clicking and uploading the CSV.\n",
        "# @markdown Make sure that the CSV is NOT uploaded under a folder in Google Colab. Then, specify the exact full name of the file in the field below, which should include the .csv extension.\n",
        "\n",
        "Filename = \"\" # @param {type:\"string\"}\n",
        "reactant_input = pd.read_csv(Filename)\n"
      ],
      "metadata": {
        "id": "77RpfDKUi8lO",
        "cellView": "form"
      },
      "execution_count": null,
      "outputs": []
    },
    {
      "cell_type": "code",
      "source": [
        "# @title Reaction SMARTS\n",
        "# @markdown The general reaction between the two reactants can be specified as a SMARTS string here.\n",
        "# @markdown The names of several reactions are provided in the dropdown field if desired, with reactants in the order present.\n",
        "# @markdown Custom reactions must be inputted using the exact reaction SMARTS, using RDKit's rules, which can be found [here](https://www.rdkit.org/docs/source/rdkit.Chem.rdChemReactions.html).\n",
        "# @markdown Note that the reactants in the SMARTS reaction must match the order of reactants in the input CSV.\n",
        "# @markdown If no reaction is specified, the default will be used, an amide bond formation between an acid chloride and an amine specifically, with reactants in that order. The image of the reaction will be printed for visual user verification.\n",
        "# @markdown\n",
        "# @markdown **Note**: If a reaction from the dropdown menu appears to be invalid, clear the output field and select the reaction again.\n",
        "Reaction = \"\" # @param [\"Amide formation between ACID CHLORIDE and AMINE\", \"Amide (peptide bond) formation between CARBOXYLIC ACID and AMINE\"] {allow-input: true}\n",
        "\n",
        "Reaction = Reaction.replace('\\n','')\n",
        "\n",
        "if Reaction == \"\":\n",
        "    rxn_smarts = \"[O:1]=[C:2][Cl:3].[N:4]>>[O:1]=[C:2][N:4].[Cl:3]\"\n",
        "elif Reaction == \"Amide (peptide bond) formation between CARBOXYLIC ACID and AMINE\":\n",
        "    rxn_smarts = \"[O:1]=[C:2][O:3].[N:4]>>[O:1]=[C:2][N:4].[O:3]\"\n",
        "elif Reaction == \"Amide formation between ACID CHLORIDE and AMINE\":\n",
        "    rxn_smarts = \"[O:1]=[C:2][Cl:3].[N:4]>>[O:1]=[C:2][N:4].[Cl:3]\"\n",
        "else:\n",
        "    rxn_smarts = Reaction\n",
        "\n",
        "try:\n",
        "    reaction_eqn = rdChemReactions.ReactionFromSmarts(rxn_smarts)\n",
        "    reaction_img = Draw.ReactionToImage(reaction_eqn)\n",
        "    display(reaction_img)\n",
        "except ValueError as error:\n",
        "    print(\"Invalid reaction. See next line for RDKit's reason for error.\")\n",
        "    print(error)\n"
      ],
      "metadata": {
        "cellView": "form",
        "id": "CjPpArfSkwx5"
      },
      "execution_count": null,
      "outputs": []
    },
    {
      "cell_type": "code",
      "source": [
        "# @title Process Reactants and Run Reaction\n",
        "# @markdown This step runs all the code necessary to process the inputted\n",
        "# @markdown reactants and run the reaction to produce the product SMILES.\n",
        "# @markdown If an error within the reaction running step occurs, the resulting\n",
        "# @markdown output will have the string `ERROR` for the responsible entry in\n",
        "# @markdown the `PRODUCT_SMILES` column. If a SMILES parse error is printed\n",
        "#@markdown below the cell, check the names in the input and make sure to expand\n",
        "#@markdown out any abbreviations (e.g. GABA -> Gamma aminobuytric acid).\n",
        "#@markdown Use the [link](https://cactus.nci.nih.gov/chemical/structure) from\n",
        "#@markdown the data import step to make sure the compound names are valid.\n",
        "#@markdown If other errors occur during the\n",
        "# @markdown process, they will be printed below the cell and the inputs should\n",
        "# @markdown be verified before rerunning.\n",
        "\n",
        "def apply_reaction(reactant_1, reactant_2):\n",
        "    try:\n",
        "        return Chem.MolToSmiles(reaction_eqn.RunReactants((Chem.MolFromSmiles(reactant_1), Chem.MolFromSmiles(reactant_2)))[0][0])\n",
        "    except:\n",
        "        return \"ERROR\"\n",
        "\n",
        "\n",
        "reactant_set_1 = list(reactant_input[\"REACTANT_1\"].dropna())\n",
        "reactant_set_2 = list(reactant_input[\"REACTANT_2\"].dropna())\n",
        "\n",
        "if rxn_smarts == \"[O:1]=[C:2][Cl:3].[N:4]>>[O:1]=[C:2][N:4].[Cl:3]\":\n",
        "    for i in range(len(reactant_set_1)):\n",
        "        if \"chloride\" not in reactant_set_1[i]:\n",
        "            reactant_set_1[i] = reactant_set_1[i] + \" chloride\"\n",
        "\n",
        "reactant_smiles_1 = list(retriever(reactant_set_1)[\"SMILES\"])\n",
        "reactant_smiles_2 = list(retriever(reactant_set_2)[\"SMILES\"])\n",
        "\n",
        "df = pd.DataFrame(list(product(reactant_set_1, reactant_set_2)),\n",
        "                  columns=['REACTANT_1', 'REACTANT_2']).dropna()\n",
        "df2 = pd.DataFrame(list(product(reactant_smiles_1, reactant_smiles_2)),\n",
        "                   columns=['SMILES_1', 'SMILES_2']).dropna()\n",
        "output_df = pd.concat([df, df2], axis=1, ignore_index=True)\n",
        "output_df = output_df.rename(columns={0:'REACTANT_1', 1:'REACTANT_2', 2:'SMILES_1', 3:'SMILES_2'})\n",
        "\n",
        "output_df[\"PRODUCT_SMILES\"] = output_df.apply(lambda x: apply_reaction(x['SMILES_1'], x['SMILES_2']), axis=1)"
      ],
      "metadata": {
        "cellView": "form",
        "id": "h3XXFKhw5Esg"
      },
      "execution_count": null,
      "outputs": []
    },
    {
      "cell_type": "code",
      "source": [
        "# @title View and Download Results\n",
        "# @markdown If the previous step was successful, this cell can be run to view\n",
        "# @markdown the results and download them as a CSV file, which can be uploaded\n",
        "# @markdown as a sheet to a spreadsheet application. The filename of the output\n",
        "# @markdown can be specified below. Once the cell runs, the output file can be\n",
        "# @markdown downloaded from the files tab of Google Colab.\n",
        "# @markdown Right click the files tab and click `Refresh` in order for the\n",
        "# @markdown output file to appear.\n",
        "\n",
        "Output_Filename = \"SMILES_product_output.csv\" # @param {type:\"string\"}\n",
        "\n",
        "output_df.to_csv(r\"\"+Output_Filename, index=False)\n",
        "\n",
        "output_df"
      ],
      "metadata": {
        "cellView": "form",
        "id": "rZ5dD4rMfV5Z"
      },
      "execution_count": null,
      "outputs": []
    }
  ]
}