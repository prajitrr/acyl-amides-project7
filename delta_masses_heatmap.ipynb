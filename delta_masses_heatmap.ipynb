{
  "cells": [
    {
      "cell_type": "code",
      "execution_count": null,
      "metadata": {
        "id": "R87Q0nk9Ajgz"
      },
      "outputs": [],
      "source": [
        "import pandas as pd\n",
        "import numpy as np\n",
        "\n",
        "import seaborn as sns\n",
        "import matplotlib.pyplot as plt\n",
        "import plotly.express as px\n",
        "from matplotlib.colors import LogNorm, Normalize\n",
        "import matplotlib.colors as pltclr\n",
        "import scipy.spatial.distance as pdist\n",
        "\n",
        "import annotationdata\n",
        "from correlationmetrics import pearson"
      ]
    },
    {
      "cell_type": "code",
      "execution_count": null,
      "metadata": {
        "id": "5DVduxQejCjF"
      },
      "outputs": [],
      "source": [
        "#Input\n",
        "\n",
        "#Read in head group names and masses\n",
        "head_group_masses = pd.read_csv(\"/content/headgroupmasses.csv\")\n",
        "\n",
        "#Read in mass data\n",
        "heatmap_data = pd.DataFrame()\n",
        "for i in range(57):\n",
        "    j = i + 1\n",
        "    df = pd.read_csv(\"/content/deltamassfile\" + str(j) + \".tsv\", sep='\\t')\n",
        "    try:\n",
        "        df = df[\"_dyn_#precmz\"]\n",
        "        df = df.rename(\"precmz\")\n",
        "    except:\n",
        "        df = df[\"precmz\"]\n",
        "        df = df.map(lambda precmz : precmz - head_group_masses.loc[i][\"SubtractMass\"])\n",
        "        df = df.rename(head_group_masses.loc[i][\"Head\"])\n",
        "        heatmap_data = pd.concat([heatmap_data, df], axis = 1)\n",
        "\n",
        "heatmap_data = heatmap_data.transpose()"
      ]
    },
    {
      "cell_type": "code",
      "execution_count": null,
      "metadata": {
        "id": "LpHu3bfDmBst"
      },
      "outputs": [],
      "source": [
        "#Reformat data to two column table\n",
        "heads = []\n",
        "deltas = []\n",
        "a = 0\n",
        "for row in heatmap_data.itertuples(True):\n",
        "    for i in range(len(row) - 1):\n",
        "        heads.append(row[0])\n",
        "        deltas.append(row[i + 1])\n",
        "\n",
        "two_col_data = pd.DataFrame({\"Heads\": heads, \"Deltas\": deltas})\n",
        "two_col_data[\"Deltas\"] = two_col_data[\"Deltas\"].round()\n",
        "two_col_data.dropna(axis=0)"
      ]
    },
    {
      "cell_type": "code",
      "execution_count": null,
      "metadata": {
        "id": "7w6kFUh-6gK-"
      },
      "outputs": [],
      "source": [
        "pre_plotted_data = two_col_data.pivot_table(index='Heads',columns='Deltas', aggfunc=lambda x: len(x))\n",
        "pre_plotted_data.fillna(0, inplace=True)"
      ]
    },
    {
      "cell_type": "code",
      "execution_count": null,
      "metadata": {
        "id": "WxXgHHLLLIcx"
      },
      "outputs": [],
      "source": [
        "#Plot heatmap\n",
        "\n",
        "#Create the colormap\n",
        "colors = [(1, 1, 1), (0.78, 0.84, 0.94), (0.92, 0.69, 0.65)]  #R -> G -> B\n",
        "#Discretizes the interpolation into bins\n",
        "n_bins = 8\n",
        "cmap_name = \"white_blue_red\"\n",
        "cmap_wbr = pltclr.LinearSegmentedColormap.from_list(\n",
        "    cmap_name, \n",
        "    colors, N=n_bins\n",
        ")\n",
        "\n",
        "#Create the plot\n",
        "a = sns.clustermap(\n",
        "    pre_plotted_data, \n",
        "    cmap = cmap_wbr, \n",
        "    method = \"single\", \n",
        "    metric = pearson, \n",
        "    norm=LogNorm(), \n",
        "    col_cluster=False, \n",
        "    cbar_pos = (3.88, 0.2, 0.05, 0.5), \n",
        "    xticklabels = 1, \n",
        "    yticklabels = 1, \n",
        "    cbar_kws = {'location': 'right', 'aspect': 30, 'anchor': (1, 10)}, \n",
        "    dendrogram_ratio = (0.99, 0.1)\n",
        ")\n",
        "hm = a.ax_heatmap.get_position()\n",
        "a.ax_heatmap.set_position([hm.x0, hm.y0, hm.width*400, hm.height])\n",
        "col = a.ax_col_dendrogram.get_position()\n",
        "\n",
        "col = a.ax_col_dendrogram.get_position()\n",
        "masses = a.ax_heatmap.get_xticklabels()\n",
        "\n",
        "#Annotate and format the plot\n",
        "for mass in masses:\n",
        "  mass_number = mass.get_text()\n",
        "  try:\n",
        "    mass = mass.set_text(\n",
        "        annotationdata.acyl_group_annotations[float(mass_number)] \n",
        "        + \"  \" \n",
        "        + mass_number\n",
        "    )\n",
        "  except KeyError:\n",
        "    mass = mass.set_text(mass_number)\n",
        "a.ax_heatmap.set_xticklabels(masses)\n",
        "a.ax_col_dendrogram.set_position(\n",
        "    [col.x0, \n",
        "     col.y0, \n",
        "     col.width*0.5, \n",
        "     col.height*0.25\n",
        "    ]\n",
        ")\n",
        "\n",
        "for _, spine in a.ax_heatmap.spines.items():\n",
        "    spine.set_visible(True)\n",
        "    spine.set_linewidth(0.5)\n",
        "\n",
        "for _, spine in a.ax_cbar.spines.items():\n",
        "    spine.set_visible(True)\n",
        "    spine.set_linewidth(0.5)\n",
        "\n",
        "a.ax_col_dendrogram.set_position([hm.x0, hm.y0, hm.width*8, hm.height])\n",
        "\n",
        "plt.tight_layout()\n",
        "plt.show()"
      ]
    },
    {
      "cell_type": "code",
      "execution_count": null,
      "metadata": {
        "id": "inh3I2JxAdRb"
      },
      "outputs": [],
      "source": [
        "#Retrieve specific data for synthesis information\n",
        "\n",
        "#List out all unmodified and modified decarxboxylated amino acids in dataset\n",
        "unmodified_decarboxylated_AA = ([\n",
        "    \"Tryptamine\", \n",
        "    \"Tyramine\", \n",
        "    \"Serotonin\", \n",
        "    \"Putrescine\", \n",
        "    \"Histamine\", \n",
        "    \"GABA\", \n",
        "    \"Dopamine\", \n",
        "    \"Cadaverine\", \n",
        "    \"Agmatine\", \n",
        "    \"2-phenethylamine\"\n",
        "])\n",
        "modified_decarboxylated_AA = ([\n",
        "    \"N-carbamoylputrescine\", \n",
        "    \"N-acetylputrescine\",\n",
        "    \"N-acetylcadaverine\",\n",
        "    \"5-Methoxytryptamine\",\n",
        "    \"3-methylhistamine\",\n",
        "    \"3-Methoxytyramine\"\n",
        "])\n",
        "\n",
        "#For synthesis purposes, chains of length 10 or less were considered\n",
        "truncated_pre_plotted_data = pre_plotted_data.loc[:,:\"154.0\"]\n",
        "largest_deltas_data = pd.DataFrame(columns=[\"Head\",\"1st\", \"2nd\", \"3rd\"])\n",
        "\n",
        "#Output a table that contains names of 3 most common N-acylamides of \n",
        "#respective head groups\n",
        "i = 0\n",
        "for item in unmodified_decarboxylated_AA:\n",
        "    largest_deltas = truncated_pre_plotted_data.loc[item].nlargest(3)\n",
        "    largest_deltas_data.loc[i] = ([\n",
        "        item, \n",
        "        (\n",
        "            \"N-\" \n",
        "            + annotationdata.acyl_group_names[annotationdata.acyl_group_annotations[largest_deltas.index[0]]] \n",
        "            + item\n",
        "        ), \n",
        "        (\n",
        "            \"N-\" \n",
        "            + annotationdata.acyl_group_names[annotationdata.acyl_group_annotations[largest_deltas.index[1]]] \n",
        "            + item\n",
        "        ), \n",
        "        (\n",
        "            \"N-\" \n",
        "            + annotationdata.acyl_group_names[annotationdata.acyl_group_annotations[largest_deltas.index[2]]] \n",
        "            + item\n",
        "        )\n",
        "    ])\n",
        "    i = i + 1"
      ]
    }
  ],
  "metadata": {
    "colab": {
      "provenance": []
    },
    "kernelspec": {
      "display_name": "Python 3",
      "name": "python3"
    },
    "language_info": {
      "name": "python"
    }
  },
  "nbformat": 4,
  "nbformat_minor": 0
}
