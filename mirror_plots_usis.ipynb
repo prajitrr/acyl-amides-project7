{
  "nbformat": 4,
  "nbformat_minor": 0,
  "metadata": {
    "colab": {
      "provenance": []
    },
    "kernelspec": {
      "name": "python3",
      "display_name": "Python 3"
    },
    "language_info": {
      "name": "python"
    }
  },
  "cells": [
    {
      "cell_type": "code",
      "execution_count": 64,
      "metadata": {
        "id": "TQyVq_ZE8Soj"
      },
      "outputs": [],
      "source": [
        "#Import dependencies\n",
        "import pandas as pd\n",
        "\n",
        "import re\n",
        "import requests as r\n",
        "\n",
        "from tqdm.auto import tqdm\n",
        "tqdm.pandas()"
      ]
    },
    {
      "cell_type": "code",
      "source": [
        "#Data Input\n",
        "synthetic_mgf = '/content/Synthetic_compounds_acyl_amides_renumbered (1).mgf'\n",
        "library_mgf = '/content/library_massQL_acyl_amides_renumbered (1) (1) (1).mgf'\n",
        "\n",
        "#Read in and index data to only include [M+H] peaks\n",
        "def process_line(line):\n",
        "    if line.startswith(\"NAME\"):\n",
        "        return [line.strip()]\n",
        "    return []\n",
        "\n",
        "def get_names(mgf_path):\n",
        "    result = []\n",
        "    with open(mgf_path, 'r') as file:\n",
        "        for line in file:\n",
        "            result = result + process_line(line)\n",
        "    return result\n",
        "\n",
        "synthetic_names = get_names(synthetic_mgf)\n",
        "library_names = get_names(library_mgf)\n",
        "\n",
        "indexed_synthetic_names = [[index + 1, value] for index, value in enumerate(synthetic_names) if value.endswith('[M+H]')]\n",
        "indexed_library_names = [[index + 1, value] for index, value in enumerate(library_names) if value.endswith('[M+H]')]\n",
        "\n",
        "#Create library and synthetic dataframes\n",
        "library = pd.DataFrame(indexed_library_names, columns = ['index', 'base_string'])\n",
        "synthetics = pd.DataFrame(indexed_synthetic_names, columns = ['index', 'base_string'])"
      ],
      "metadata": {
        "id": "HYccKqkknij6"
      },
      "execution_count": null,
      "outputs": []
    },
    {
      "cell_type": "code",
      "source": [
        "#Define functions to get N-acyl amide compound information\n",
        "#(head group, carbon chain length, degree of unsaturation, number of acylations)\n",
        "library_pattern = re.compile(\"-C\\d+:\\d\")\n",
        "\n",
        "def generate_properties_library(base_string):\n",
        "    chain_match = library_pattern.search(base_string[15:])\n",
        "    chain = chain_match.group(0)\n",
        "    split_data = chain.split(\":\")\n",
        "    head = base_string[15:15+chain_match.start(0)]\n",
        "    return head, split_data[0][2:], split_data[1]\n",
        "\n",
        "synthetic_pattern = re.compile(\"C\\d+_\\d+_N-Acyl_\")\n",
        "synthetic_pattern_diacyl = re.compile(\"C\\d+:\\d+ N,N-diacyl \")\n",
        "\n",
        "def generate_properties_synthetic(base_string):\n",
        "    chain_match = synthetic_pattern.search(base_string[5:])\n",
        "    try:\n",
        "        chain = chain_match.group(0)\n",
        "        head = base_string[chain_match.end(0)+5:-6]\n",
        "        chain_info = chain[1:-8].split(\"_\")\n",
        "        return head, chain_info[0], chain_info[1], 1\n",
        "    except AttributeError:\n",
        "        chain_match = synthetic_pattern_diacyl.search(base_string[5:])\n",
        "        try:\n",
        "            chain = chain_match.group(0)\n",
        "        except:\n",
        "            return \"ERROR\", \"ERROR\", \"ERROR\", 0\n",
        "        head = base_string[chain_match.end(0)+5:-6]\n",
        "        chain_info = chain[1:-12].split(\":\")\n",
        "        return head, chain_info[0], chain_info[1], 2"
      ],
      "metadata": {
        "id": "BZFhM7jsCpT0"
      },
      "execution_count": null,
      "outputs": []
    },
    {
      "cell_type": "code",
      "source": [
        "#Retrieve compound information\n",
        "library['head'], library['chain_length'], library['unsaturation'] = zip(*library['base_string'].map(generate_properties_library))\n",
        "synthetics['head'], synthetics['chain_length'], synthetics['unsaturation'], synthetics['num_acylations'] = zip(*synthetics['base_string'].map(generate_properties_synthetic))\n",
        "\n",
        "library['head'] = library['head'].replace('2-phenethylamine','2-phenylethylamine')\n",
        "\n",
        "library[\"compound\"] = library[\"head\"] + library[\"chain_length\"].astype(str) + library[\"unsaturation\"].astype(str)\n",
        "synthetics[\"compound\"] = synthetics[\"head\"] + synthetics[\"chain_length\"].astype(str) + synthetics[\"unsaturation\"].astype(str)\n",
        "\n",
        "#Filter synthetic standards to only include singularly acylated N-acyl amides\n",
        "synthetics_filtered = synthetics[synthetics[\"num_acylations\"]==1]"
      ],
      "metadata": {
        "id": "v0mlwEmUCB9j"
      },
      "execution_count": null,
      "outputs": []
    },
    {
      "cell_type": "code",
      "source": [
        "#Retrieve indices of library compounds that match synthetic standards\n",
        "def retrieve_indices(compound):\n",
        "    indices = library.index[library['compound'] == compound].tolist()\n",
        "    indices = [i+1 for i in indices]\n",
        "    return indices\n",
        "\n",
        "synthetics_filtered[\"library_matches\"] = synthetics_filtered[\"compound\"].apply(lambda x : retrieve_indices(x))\n",
        "synthetics_filtered[\"temp_list\"] = synthetics_filtered[\"index\"].apply(lambda x : [x]) + synthetics_filtered[\"library_matches\"]"
      ],
      "metadata": {
        "id": "xTk2YxbGtHcS"
      },
      "execution_count": null,
      "outputs": []
    },
    {
      "cell_type": "code",
      "source": [
        "#Get mirror plot URLs\n",
        "base_url = \"https://metabolomics-usi.gnps2.org/svg/mirror/?usi1=mzspec%3AGNPS%3ATASK-9c69ce9fa9424d778160e4076ceaa063-spectra%2Fspecs_ms.mgf%3Ascan%3AREPLACE_SYNTHETIC&usi2=mzspec%3AGNPS%3ATASK-c3aca7e8842f457ca29a77f743b299fe-spectra%2Fspecs_ms.mgf%3Ascan%3AREPLACE_LIBRARY&width=10.0&height=6.0&mz_min=None&mz_max=None&max_intensity=125&annotate_precision=4&annotation_rotation=90&cosine=standard&fragment_mz_tolerance=0.1&grid=True&annotate_peaks=%5B%5B%5D%2C%20%5B%5D%5D\"\n",
        "\n",
        "def get_mirror_plots(indices):\n",
        "    if len(indices) <= 1:\n",
        "        return []\n",
        "    usi_url = base_url.replace(\"REPLACE_SYNTHETIC\",str(indices[0]))\n",
        "    results = []\n",
        "    library_indices = indices[1:]\n",
        "    for i in library_indices:\n",
        "        results.append(usi_url.replace(\"REPLACE_LIBRARY\", str(i)))\n",
        "    return results\n",
        "\n",
        "synthetics_filtered[\"mirror_urls\"] = synthetics_filtered[\"temp_list\"].apply(lambda x : get_mirror_plots(x))"
      ],
      "metadata": {
        "id": "0ktBQCB4bSk-"
      },
      "execution_count": null,
      "outputs": []
    },
    {
      "cell_type": "code",
      "source": [
        "#Get cosine scores from mirror plot URLs\n",
        "#URLs that fail to load in on first attempt have a value of -999999 as cosine score\n",
        "def get_cosines(mirror_plot_links):\n",
        "    results = []\n",
        "    if len(mirror_plot_links) == 0:\n",
        "        return results\n",
        "    for link in mirror_plot_links:\n",
        "        try:\n",
        "            page = r.get(link)\n",
        "            cosine = re.search('Cosine similarity = \\d.\\d+', page.text)\n",
        "            results.append(float(cosine.group(0)[20:]))\n",
        "        except:\n",
        "            results.append(-999999)\n",
        "    return results\n",
        "\n",
        "synthetics_filtered[\"cosines\"] = synthetics_filtered[\"mirror_urls\"].progress_apply(lambda x : get_cosines(x))"
      ],
      "metadata": {
        "id": "O4Mx9g2Rksu4"
      },
      "execution_count": 38,
      "outputs": []
    },
    {
      "cell_type": "code",
      "source": [
        "#For each synthetic standard, retrieve the max cosine score and corresponding mirror plot\n",
        "def max_plot(row):\n",
        "    if len(row[\"cosines\"]) > 0 and row[\"max_cosine\"] != None:\n",
        "        return row[\"mirror_urls\"][row[\"cosines\"].index(row[\"max_cosine\"])]\n",
        "    return None\n",
        "\n",
        "synthetics_filtered[\"max_cosine\"] = synthetics_filtered[\"cosines\"].apply(lambda x : max(x) if len(x)!=0 else None)\n",
        "synthetics_filtered[\"max_plot\"] = synthetics_filtered.apply(lambda x : max_plot(x), axis=1)"
      ],
      "metadata": {
        "id": "x39qwzrVJTtU"
      },
      "execution_count": 60,
      "outputs": []
    }
  ]
}